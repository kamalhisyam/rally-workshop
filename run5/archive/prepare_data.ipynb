{
 "metadata": {
  "language_info": {
   "codemirror_mode": {
    "name": "ipython",
    "version": 3
   },
   "file_extension": ".py",
   "mimetype": "text/x-python",
   "name": "python",
   "nbconvert_exporter": "python",
   "pygments_lexer": "ipython3",
   "version": "3.8.3-final"
  },
  "orig_nbformat": 2,
  "kernelspec": {
   "name": "python3",
   "display_name": "Python 3.8.3 64-bit",
   "metadata": {
    "interpreter": {
     "hash": "2db524e06e9f5f4ffedc911c917cb75e12dbc923643829bf417064a77eb14d37"
    }
   }
  }
 },
 "nbformat": 4,
 "nbformat_minor": 2,
 "cells": [
  {
   "cell_type": "code",
   "execution_count": 1,
   "metadata": {},
   "outputs": [],
   "source": [
    "import numpy as np\n",
    "from PIL import Image\n",
    "from helper.img_to_df import img_to_df\n",
    "import glob, os\n",
    "import pandas as pd"
   ]
  },
  {
   "cell_type": "code",
   "execution_count": 6,
   "metadata": {},
   "outputs": [],
   "source": [
    "ls_df = []\n",
    "\n",
    "for infile in glob.glob(\"*after_thumbnail.jpg\"):\n",
    "    file, ext = os.path.splitext(infile)\n",
    "    ls_df.append(img_to_df(infile))\n"
   ]
  },
  {
   "cell_type": "code",
   "execution_count": 7,
   "metadata": {},
   "outputs": [],
   "source": [
    "output = pd.concat(ls_df)"
   ]
  },
  {
   "cell_type": "code",
   "execution_count": 4,
   "metadata": {},
   "outputs": [
    {
     "output_type": "execute_result",
     "data": {
      "text/plain": [
       "              R         G         B\n",
       "0      0.266667  0.474510  0.639216\n",
       "1      0.274510  0.482353  0.647059\n",
       "2      0.282353  0.490196  0.654902\n",
       "3      0.294118  0.501961  0.666667\n",
       "4      0.298039  0.505882  0.670588\n",
       "...         ...       ...       ...\n",
       "12283  0.498039  0.458824  0.450980\n",
       "12284  0.360784  0.321569  0.313725\n",
       "12285  0.258824  0.219608  0.211765\n",
       "12286  0.313725  0.278431  0.258824\n",
       "12287  0.294118  0.258824  0.239216\n",
       "\n",
       "[61440 rows x 3 columns]"
      ],
      "text/html": "<div>\n<style scoped>\n    .dataframe tbody tr th:only-of-type {\n        vertical-align: middle;\n    }\n\n    .dataframe tbody tr th {\n        vertical-align: top;\n    }\n\n    .dataframe thead th {\n        text-align: right;\n    }\n</style>\n<table border=\"1\" class=\"dataframe\">\n  <thead>\n    <tr style=\"text-align: right;\">\n      <th></th>\n      <th>R</th>\n      <th>G</th>\n      <th>B</th>\n    </tr>\n  </thead>\n  <tbody>\n    <tr>\n      <th>0</th>\n      <td>0.266667</td>\n      <td>0.474510</td>\n      <td>0.639216</td>\n    </tr>\n    <tr>\n      <th>1</th>\n      <td>0.274510</td>\n      <td>0.482353</td>\n      <td>0.647059</td>\n    </tr>\n    <tr>\n      <th>2</th>\n      <td>0.282353</td>\n      <td>0.490196</td>\n      <td>0.654902</td>\n    </tr>\n    <tr>\n      <th>3</th>\n      <td>0.294118</td>\n      <td>0.501961</td>\n      <td>0.666667</td>\n    </tr>\n    <tr>\n      <th>4</th>\n      <td>0.298039</td>\n      <td>0.505882</td>\n      <td>0.670588</td>\n    </tr>\n    <tr>\n      <th>...</th>\n      <td>...</td>\n      <td>...</td>\n      <td>...</td>\n    </tr>\n    <tr>\n      <th>12283</th>\n      <td>0.498039</td>\n      <td>0.458824</td>\n      <td>0.450980</td>\n    </tr>\n    <tr>\n      <th>12284</th>\n      <td>0.360784</td>\n      <td>0.321569</td>\n      <td>0.313725</td>\n    </tr>\n    <tr>\n      <th>12285</th>\n      <td>0.258824</td>\n      <td>0.219608</td>\n      <td>0.211765</td>\n    </tr>\n    <tr>\n      <th>12286</th>\n      <td>0.313725</td>\n      <td>0.278431</td>\n      <td>0.258824</td>\n    </tr>\n    <tr>\n      <th>12287</th>\n      <td>0.294118</td>\n      <td>0.258824</td>\n      <td>0.239216</td>\n    </tr>\n  </tbody>\n</table>\n<p>61440 rows × 3 columns</p>\n</div>"
     },
     "metadata": {},
     "execution_count": 4
    }
   ],
   "source": [
    "output"
   ]
  },
  {
   "cell_type": "code",
   "execution_count": 8,
   "metadata": {},
   "outputs": [],
   "source": [
    "output.to_csv('after.csv')"
   ]
  },
  {
   "cell_type": "code",
   "execution_count": 39,
   "metadata": {},
   "outputs": [
    {
     "output_type": "stream",
     "name": "stdout",
     "text": [
      "              R         G         B\n0      0.529412  0.678431  0.768627\n1      0.537255  0.686275  0.776471\n2      0.549020  0.698039  0.788235\n3      0.556863  0.705882  0.796078\n4      0.564706  0.713725  0.803922\n...         ...       ...       ...\n12283  0.729412  0.694118  0.635294\n12284  0.486275  0.450980  0.392157\n12285  0.372549  0.337255  0.270588\n12286  0.458824  0.423529  0.356863\n12287  0.392157  0.356863  0.290196\n\n[61440 rows x 3 columns]\n"
     ]
    }
   ],
   "source": [
    "print(output)"
   ]
  },
  {
   "cell_type": "code",
   "execution_count": null,
   "metadata": {},
   "outputs": [],
   "source": []
  }
 ]
}